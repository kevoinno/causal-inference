{
 "cells": [
  {
   "cell_type": "markdown",
   "metadata": {},
   "source": [
    "# Intuition behind inverse probability weighting\n",
    "\n",
    "In non-randomized studies, the probability that a person receives a treatment might differ based on some covariates. **Inverse probability weighting** helps us estimate the causal effect of the treatment even when we have confounders. By weighting, the treatment becomes indepdent of the measured confounders.\n",
    "\n",
    "The main intuition is that we want to give higher weight to underrepresented in a group. For example, we can be interested in testing a new drug's effect on pain relief. Maybe older patients are more likely to receive the drug. Then we would want to weight the outcome of young patients that were treated to be higher so that it can contribute more to the expected potential outcome of a patient who received the drug.\n",
    "\n",
    "## Limitations\n",
    "\n",
    "We can't use IPW if we didn't measure the covariates. We also can't be 100% sure that we accounted for all covariates. For example, if we forgot to include a covariate, then exchangeability won't be satisfied."
   ]
  },
  {
   "cell_type": "code",
   "execution_count": 16,
   "metadata": {},
   "outputs": [],
   "source": [
    "from dowhy import datasets\n",
    "import pandas as pd\n",
    "import numpy as np\n",
    "from causalinference import CausalModel"
   ]
  },
  {
   "cell_type": "markdown",
   "metadata": {},
   "source": [
    "# Step 1: Create synthetic data"
   ]
  },
  {
   "cell_type": "code",
   "execution_count": null,
   "metadata": {},
   "outputs": [
    {
     "data": {
      "text/html": [
       "<div>\n",
       "<style scoped>\n",
       "    .dataframe tbody tr th:only-of-type {\n",
       "        vertical-align: middle;\n",
       "    }\n",
       "\n",
       "    .dataframe tbody tr th {\n",
       "        vertical-align: top;\n",
       "    }\n",
       "\n",
       "    .dataframe thead th {\n",
       "        text-align: right;\n",
       "    }\n",
       "</style>\n",
       "<table border=\"1\" class=\"dataframe\">\n",
       "  <thead>\n",
       "    <tr style=\"text-align: right;\">\n",
       "      <th></th>\n",
       "      <th>W0</th>\n",
       "      <th>W1</th>\n",
       "      <th>W2</th>\n",
       "      <th>W3</th>\n",
       "      <th>v0</th>\n",
       "      <th>y</th>\n",
       "    </tr>\n",
       "  </thead>\n",
       "  <tbody>\n",
       "    <tr>\n",
       "      <th>0</th>\n",
       "      <td>-0.485073</td>\n",
       "      <td>0.667292</td>\n",
       "      <td>2.043201</td>\n",
       "      <td>0.964752</td>\n",
       "      <td>True</td>\n",
       "      <td>17.107666</td>\n",
       "    </tr>\n",
       "    <tr>\n",
       "      <th>1</th>\n",
       "      <td>-0.720394</td>\n",
       "      <td>1.443989</td>\n",
       "      <td>0.000570</td>\n",
       "      <td>-0.268413</td>\n",
       "      <td>True</td>\n",
       "      <td>9.638488</td>\n",
       "    </tr>\n",
       "    <tr>\n",
       "      <th>2</th>\n",
       "      <td>-0.008957</td>\n",
       "      <td>-1.011852</td>\n",
       "      <td>-1.260930</td>\n",
       "      <td>-0.364971</td>\n",
       "      <td>False</td>\n",
       "      <td>-5.821974</td>\n",
       "    </tr>\n",
       "    <tr>\n",
       "      <th>3</th>\n",
       "      <td>-1.263751</td>\n",
       "      <td>1.215676</td>\n",
       "      <td>-0.444036</td>\n",
       "      <td>-1.214987</td>\n",
       "      <td>True</td>\n",
       "      <td>3.508742</td>\n",
       "    </tr>\n",
       "    <tr>\n",
       "      <th>4</th>\n",
       "      <td>1.214729</td>\n",
       "      <td>0.675652</td>\n",
       "      <td>0.531516</td>\n",
       "      <td>-1.227431</td>\n",
       "      <td>True</td>\n",
       "      <td>12.367930</td>\n",
       "    </tr>\n",
       "  </tbody>\n",
       "</table>\n",
       "</div>"
      ],
      "text/plain": [
       "         W0        W1        W2        W3     v0          y\n",
       "0 -0.485073  0.667292  2.043201  0.964752   True  17.107666\n",
       "1 -0.720394  1.443989  0.000570 -0.268413   True   9.638488\n",
       "2 -0.008957 -1.011852 -1.260930 -0.364971  False  -5.821974\n",
       "3 -1.263751  1.215676 -0.444036 -1.214987   True   3.508742\n",
       "4  1.214729  0.675652  0.531516 -1.227431   True  12.367930"
      ]
     },
     "execution_count": 4,
     "metadata": {},
     "output_type": "execute_result"
    }
   ],
   "source": [
    "np.random.seed(42)\n",
    "\n",
    "data = datasets.linear_dataset(\n",
    "    beta = 10, # causal effect\n",
    "    num_common_causes=4, # number of confounders\n",
    "    num_samples = 10000,\n",
    "    treatment_is_binary=True,\n",
    "    outcome_is_binary=False\n",
    ")\n",
    "\n",
    "df = data['df']\n",
    "\n",
    "df.head()"
   ]
  },
  {
   "cell_type": "markdown",
   "metadata": {},
   "source": [
    "$W_i$ are the confounders, v0 is the treatment, and y is the outcome"
   ]
  },
  {
   "cell_type": "code",
   "execution_count": 7,
   "metadata": {},
   "outputs": [
    {
     "data": {
      "text/html": [
       "<div>\n",
       "<style scoped>\n",
       "    .dataframe tbody tr th:only-of-type {\n",
       "        vertical-align: middle;\n",
       "    }\n",
       "\n",
       "    .dataframe tbody tr th {\n",
       "        vertical-align: top;\n",
       "    }\n",
       "\n",
       "    .dataframe thead th {\n",
       "        text-align: right;\n",
       "    }\n",
       "</style>\n",
       "<table border=\"1\" class=\"dataframe\">\n",
       "  <thead>\n",
       "    <tr style=\"text-align: right;\">\n",
       "      <th></th>\n",
       "      <th>W0</th>\n",
       "      <th>W1</th>\n",
       "      <th>W2</th>\n",
       "      <th>W3</th>\n",
       "      <th>treatment</th>\n",
       "      <th>outcome</th>\n",
       "    </tr>\n",
       "  </thead>\n",
       "  <tbody>\n",
       "    <tr>\n",
       "      <th>0</th>\n",
       "      <td>-0.485073</td>\n",
       "      <td>0.667292</td>\n",
       "      <td>2.043201</td>\n",
       "      <td>0.964752</td>\n",
       "      <td>1</td>\n",
       "      <td>17.107666</td>\n",
       "    </tr>\n",
       "    <tr>\n",
       "      <th>1</th>\n",
       "      <td>-0.720394</td>\n",
       "      <td>1.443989</td>\n",
       "      <td>0.000570</td>\n",
       "      <td>-0.268413</td>\n",
       "      <td>1</td>\n",
       "      <td>9.638488</td>\n",
       "    </tr>\n",
       "    <tr>\n",
       "      <th>2</th>\n",
       "      <td>-0.008957</td>\n",
       "      <td>-1.011852</td>\n",
       "      <td>-1.260930</td>\n",
       "      <td>-0.364971</td>\n",
       "      <td>0</td>\n",
       "      <td>-5.821974</td>\n",
       "    </tr>\n",
       "    <tr>\n",
       "      <th>3</th>\n",
       "      <td>-1.263751</td>\n",
       "      <td>1.215676</td>\n",
       "      <td>-0.444036</td>\n",
       "      <td>-1.214987</td>\n",
       "      <td>1</td>\n",
       "      <td>3.508742</td>\n",
       "    </tr>\n",
       "    <tr>\n",
       "      <th>4</th>\n",
       "      <td>1.214729</td>\n",
       "      <td>0.675652</td>\n",
       "      <td>0.531516</td>\n",
       "      <td>-1.227431</td>\n",
       "      <td>1</td>\n",
       "      <td>12.367930</td>\n",
       "    </tr>\n",
       "  </tbody>\n",
       "</table>\n",
       "</div>"
      ],
      "text/plain": [
       "         W0        W1        W2        W3  treatment    outcome\n",
       "0 -0.485073  0.667292  2.043201  0.964752          1  17.107666\n",
       "1 -0.720394  1.443989  0.000570 -0.268413          1   9.638488\n",
       "2 -0.008957 -1.011852 -1.260930 -0.364971          0  -5.821974\n",
       "3 -1.263751  1.215676 -0.444036 -1.214987          1   3.508742\n",
       "4  1.214729  0.675652  0.531516 -1.227431          1  12.367930"
      ]
     },
     "execution_count": 7,
     "metadata": {},
     "output_type": "execute_result"
    }
   ],
   "source": [
    "# Convert v0 to Treatment and binary, y to Outcome\n",
    "df['v0'] = df['v0'].apply(lambda x : 1 if x == True else 0)\n",
    "\n",
    "df = df.rename({'v0' : 'treatment', 'y' : 'outcome'}, axis = 1)\n",
    "df.head()"
   ]
  },
  {
   "cell_type": "markdown",
   "metadata": {},
   "source": [
    "# Step 2: Get raw summary statistics from data"
   ]
  },
  {
   "cell_type": "code",
   "execution_count": 8,
   "metadata": {},
   "outputs": [
    {
     "name": "stdout",
     "output_type": "stream",
     "text": [
      "\n",
      "Summary Statistics\n",
      "\n",
      "                      Controls (N_c=2269)        Treated (N_t=7731)             \n",
      "       Variable         Mean         S.d.         Mean         S.d.     Raw-diff\n",
      "--------------------------------------------------------------------------------\n",
      "              Y       -2.191        4.217       13.940        4.842       16.132\n",
      "\n",
      "                      Controls (N_c=2269)        Treated (N_t=7731)             \n",
      "       Variable         Mean         S.d.         Mean         S.d.     Nor-diff\n",
      "--------------------------------------------------------------------------------\n",
      "             X0       -0.779        0.939       -0.088        0.971        0.724\n",
      "             X1       -0.181        0.685        1.207        0.829        1.825\n",
      "             X2        0.122        0.997        0.555        0.991        0.435\n",
      "             X3        0.127        0.969        0.221        1.005        0.095\n",
      "\n"
     ]
    }
   ],
   "source": [
    "# Run causal model and print summary statistics\n",
    "causal = CausalModel(Y = df['outcome'].values, D = df['treatment'].values, X = df[['W0', 'W1', 'W2', 'W3']].values)\n",
    "print(causal.summary_stats)"
   ]
  },
  {
   "cell_type": "markdown",
   "metadata": {},
   "source": [
    "From this output:\n",
    "- There are 2269 units in the control, and 7731 in the treatment group\n",
    "- The average outcome for the control group is -2.191 and the average outcome for the treatment group is 13.94\n",
    "- Nor-diff is the standardized mean difference. It measures how similar the treatment and control group are with respect to a covariate\n",
    "    - if Nor-diff < 0.1, the groups are balanced with respect to that covariate\n",
    "- In this case, the groups are not balanced"
   ]
  },
  {
   "cell_type": "markdown",
   "metadata": {},
   "source": [
    "# Step 3: Estimate the propensity score of each observation\n",
    "\n",
    "A propensity score is the probability that the unit will receive the treatment, given the covariates. This is done using a logistic regression"
   ]
  },
  {
   "cell_type": "code",
   "execution_count": 13,
   "metadata": {},
   "outputs": [
    {
     "name": "stdout",
     "output_type": "stream",
     "text": [
      "\n",
      "Estimated Parameters of Propensity Score\n",
      "\n",
      "                    Coef.       S.e.          z      P>|z|      [95% Conf. int.]\n",
      "--------------------------------------------------------------------------------\n",
      "     Intercept     -0.052      0.053     -0.982      0.326     -0.156      0.052\n",
      "            X0      2.171      0.067     32.537      0.000      2.040      2.302\n",
      "            X1      4.525      0.117     38.816      0.000      4.297      4.754\n",
      "            X2      1.350      0.054     25.134      0.000      1.244      1.455\n",
      "            X3      0.286      0.044      6.500      0.000      0.200      0.373\n",
      "\n",
      "[0.99295272 0.99217314 0.00156753 ... 0.69143426 0.99983862 0.99943713]\n"
     ]
    }
   ],
   "source": [
    "# Estimate propsenity scores\n",
    "causal.est_propensity()\n",
    "print(causal.propensity)\n",
    "print(causal.propensity['fitted'])"
   ]
  },
  {
   "cell_type": "markdown",
   "metadata": {},
   "source": [
    "This shows the estimated coefficients for the parameters.\n",
    "    \n",
    "    causal.propensity['fitted'] gives the actual propensity scores"
   ]
  },
  {
   "cell_type": "markdown",
   "metadata": {},
   "source": [
    "# Step 4: Inverse probability weighting\n",
    "\n",
    "After estimating the propensity scores in Step 2, we can perform the inverse probability weighting"
   ]
  },
  {
   "cell_type": "code",
   "execution_count": 15,
   "metadata": {},
   "outputs": [
    {
     "name": "stdout",
     "output_type": "stream",
     "text": [
      "\n",
      "Treatment Effect Estimates: Weighting\n",
      "\n",
      "                     Est.       S.e.          z      P>|z|      [95% Conf. int.]\n",
      "--------------------------------------------------------------------------------\n",
      "           ATE     10.000      0.002   6455.889      0.000      9.997     10.003\n",
      "\n"
     ]
    }
   ],
   "source": [
    "# Inverse probability weighting\n",
    "causal.est_via_weighting()\n",
    "print(causal.estimates)"
   ]
  },
  {
   "cell_type": "markdown",
   "metadata": {},
   "source": [
    "This estimate of the average treatment effect matches the causal effect that we specified in the data generation process."
   ]
  }
 ],
 "metadata": {
  "kernelspec": {
   "display_name": "venv",
   "language": "python",
   "name": "python3"
  },
  "language_info": {
   "codemirror_mode": {
    "name": "ipython",
    "version": 3
   },
   "file_extension": ".py",
   "mimetype": "text/x-python",
   "name": "python",
   "nbconvert_exporter": "python",
   "pygments_lexer": "ipython3",
   "version": "3.12.2"
  }
 },
 "nbformat": 4,
 "nbformat_minor": 2
}
